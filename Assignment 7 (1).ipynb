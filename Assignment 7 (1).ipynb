{
 "cells": [
  {
   "cell_type": "markdown",
   "id": "eb412901-ce2b-4d4c-9a95-a90f2610c440",
   "metadata": {},
   "source": [
    "Q1. What is Abstraction in OOps? Explain with an example."
   ]
  },
  {
   "cell_type": "markdown",
   "id": "f759a20c-a0f8-4ce9-9bf1-0c3c760f270e",
   "metadata": {},
   "source": [
    "Ans:- Abstraction is one of the core concepts of Oject-Oriented-Programming.It is a process of hiding the \n",
    "important details of an application from the outer world.Abstraction is used to describe things in simple\n",
    "terms.it's used to create a boundary between the application and the client programs.\n",
    "for example:-our car is great example of abstraction.you can start a car by turning the key or pressing\n",
    "the start button.you don't need to know how the engine is getting started,what all components your car\n",
    "has.The car internal implementation and complex logic is completely hidden from the user."
   ]
  },
  {
   "cell_type": "markdown",
   "id": "bc104784-812e-4d1c-b9cc-a22ae5969372",
   "metadata": {},
   "source": [
    "Q2. Differentiate between Abstraction and Encapsulation. Explain with an example."
   ]
  },
  {
   "cell_type": "markdown",
   "id": "54f84f43-820f-4308-a78b-9eba15b58008",
   "metadata": {},
   "source": [
    "Ans:-(a) Abstraction shows only useful data by providing the most necessary details,whereas Encapsulation\n",
    "wraps the code and data for necessary information.\n",
    "(b)Abstraction is focused mainly on what should be done,while encapsulation is focused on how it should\n",
    "be done.\n",
    "(c)Abstraction hides complexity by giving you a more a abstract picture,while Encapsulation hides internal\n",
    "work so that you can change it later.\n",
    "(d)Abstraction helps you to partition the program into many independent portions,whereas Encapsulation is easy\n",
    "to change with new requirements.\n",
    "(e)Abstraction solves the problems at the design level while Encapsulation solves problems at the implementation \n",
    "level.\n",
    "(f)Abstraction hides the irrelevant details found in the code,whereas Encapsulation helps developers to\n",
    "organize the entire code easily.\n",
    "\n",
    "for example:-In a particular company, the various teams work like a functional team, a development team, a test team, a content team, and a project team to do other tasks. Let’s say the content team wants all the data about the development team. In this case, the data cannot be accessed directly. The content team should reach out to someone from the development team and ask them to provide the data. This is encapsulation. The data (project data + employee data) is grouped under one name, the “development team.”\n",
    "\n",
    "Now,consider one example where we enter password while accessing our facebook account in this case there are several backend programs are\n",
    "running but we don't know how it works inspite of using it this can be example of abstraction where real application is hidden from the user\n",
    "and only necessary details are provided."
   ]
  },
  {
   "cell_type": "markdown",
   "id": "386de4d7-f6eb-4e77-94fe-8d4cfd157dee",
   "metadata": {},
   "source": [
    "Q3. What is abc module in python? Why is it used?"
   ]
  },
  {
   "cell_type": "markdown",
   "id": "aba7f127-f7b5-4425-86a2-446b27d80e51",
   "metadata": {},
   "source": [
    "Ans:-Abc module provides the infrastructure for defining abstract base classes in python.Abc is used for marking\n",
    "methods of the base class as abstract."
   ]
  },
  {
   "cell_type": "markdown",
   "id": "45dd9394-d2fb-493c-99d6-0eee50450d98",
   "metadata": {},
   "source": [
    "Q4. How can we achieve data abstraction?"
   ]
  },
  {
   "cell_type": "markdown",
   "id": "211f2a03-980d-4170-b337-b4627bdc3d22",
   "metadata": {},
   "source": [
    "Ans:-Abstraction can be achieved by using abstract classes and interfaces.A class that consists of one or more \n",
    "abstract methods is called the abstract class.Abstract methods do not contain their implementation.Abstract class\n",
    "can be inherited by the subclass and abstract methods gets its definition in the subclass.Astract classes are meant to be the \n",
    "blueprint of the other class.python provides the abc module to use the abstraction in the python program."
   ]
  },
  {
   "cell_type": "markdown",
   "id": "fd671fea-3c72-4ec4-9eb8-5ca71ce995dd",
   "metadata": {},
   "source": [
    "Q5. Can we create an instance of an abstract class? Explain your answer."
   ]
  },
  {
   "cell_type": "markdown",
   "id": "cb22f48f-880a-4bb6-8a5d-ac880a45e22a",
   "metadata": {},
   "source": [
    "Ans:-No, we can't create an instance or object of an abstract class because it does not have a complete implementation.\n",
    "The purpose of an abstract class is to function as a base for subclasses. It acts like a template, or an empty or partially empty structure, we should extend it and build on it before we can use it.we can create a reference variable of an abstract class. The reference variable is used to refer to the objects of derived classes (subclasses of abstract class).\n",
    "\n",
    "An abstract class means hiding the implementation and showing the function definition to the user is known as Abstract class. "
   ]
  }
 ],
 "metadata": {
  "kernelspec": {
   "display_name": "Python 3 (ipykernel)",
   "language": "python",
   "name": "python3"
  },
  "language_info": {
   "codemirror_mode": {
    "name": "ipython",
    "version": 3
   },
   "file_extension": ".py",
   "mimetype": "text/x-python",
   "name": "python",
   "nbconvert_exporter": "python",
   "pygments_lexer": "ipython3",
   "version": "3.10.8"
  }
 },
 "nbformat": 4,
 "nbformat_minor": 5
}
